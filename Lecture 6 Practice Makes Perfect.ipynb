{
 "cells": [
  {
   "cell_type": "markdown",
   "id": "e294ecaa",
   "metadata": {},
   "source": [
    "# Lecture 6\n",
    "\n",
    "In the real world, [pair programming](https://en.wikipedia.org/wiki/Pair_programming#:~:text=Pair%20programming%20is%20an%20agile,two%20programmers%20switch%20roles%20frequently) is a common practice in which two programmers work together at one computer. One, the driver, writes code while the other, the observer or navigator, reviews each line of code as it is typed in. The two programmers switch roles frequently. In your breakout room, one of you should share your screen, while the other assists in a fashion similar to described above so as to solve the following questions listed below. "
   ]
  },
  {
   "cell_type": "markdown",
   "id": "f8a7e86b",
   "metadata": {},
   "source": [
    "## Q1) Write a function called \"gold_counter\" that \n",
    "\n",
    "*What to Do?*\n",
    "- Accepts a list of words\n",
    "- Returns the number of occurences the word \"gold\" appears in the list of words\n",
    "- **Bonus**: make your function work even if the word is \"Gold\". You can use String Functions or the binary operator called \"or\"\n",
    "\n",
    "*What to Print? and Testing*\n",
    "- Create two lists to test this function\n",
    "- Test this function with these two lists"
   ]
  },
  {
   "cell_type": "code",
   "execution_count": 5,
   "id": "16f3eff4",
   "metadata": {},
   "outputs": [],
   "source": [
    "def gold_counter(metals):\n",
    "    counter = 0\n",
    "    for metal in metals:\n",
    "        if metal == \"gold\" or metal == \"Gold\":\n",
    "            counter = counter + 1\n",
    "    return counter"
   ]
  },
  {
   "cell_type": "code",
   "execution_count": 9,
   "id": "9a061d37",
   "metadata": {},
   "outputs": [],
   "source": [
    "metals = [\"copper\", \"gold\", \"gold\", \"aluminium\"]"
   ]
  },
  {
   "cell_type": "code",
   "execution_count": 10,
   "id": "37f2a354",
   "metadata": {},
   "outputs": [
    {
     "data": {
      "text/plain": [
       "2"
      ]
     },
     "execution_count": 10,
     "metadata": {},
     "output_type": "execute_result"
    }
   ],
   "source": [
    "gold_counter(metals)"
   ]
  },
  {
   "cell_type": "markdown",
   "id": "ee96b5ed",
   "metadata": {},
   "source": [
    "## Q2) Write a function called \"total_occurences\" that\n",
    "\n",
    "*What to do?*\n",
    "- Accepts a target word and a list of words \n",
    "- Return \"No Occurences\" if the word does not appear in the list at all\n",
    "- Return \"1 Occurence\" if the word appears in the list once\n",
    "- Return \"# Occurences\"(e.g. 2 Occurences)if the word does appear in the list \n",
    "- **Bonus**: ensure the case of the letters does not matter\n",
    "\n",
    "*What to Print? / Testing*\n",
    "- Create two lists to test this function\n",
    "- Test this function with these two lists"
   ]
  },
  {
   "cell_type": "code",
   "execution_count": 33,
   "id": "eb4483bb",
   "metadata": {},
   "outputs": [],
   "source": [
    "def total_occurences(target, words):\n",
    "    total = 0 \n",
    "    for word in words:\n",
    "        if word.upper() == target.upper():\n",
    "            total = total + 1\n",
    "    if total == 0:\n",
    "        return \"No Occurences\"\n",
    "    elif total  == 1:\n",
    "        return \"1 occurence\"\n",
    "    else:\n",
    "        return str(total) + \" Occurences\""
   ]
  },
  {
   "cell_type": "code",
   "execution_count": 34,
   "id": "7287d0f2",
   "metadata": {},
   "outputs": [],
   "source": [
    "list_A = [\"apple\", \"apple\", \"orange\"]"
   ]
  },
  {
   "cell_type": "code",
   "execution_count": 37,
   "id": "f4109408",
   "metadata": {},
   "outputs": [
    {
     "data": {
      "text/plain": [
       "'2 Occurences'"
      ]
     },
     "execution_count": 37,
     "metadata": {},
     "output_type": "execute_result"
    }
   ],
   "source": [
    "total_occurences(\"apple\", list_A)"
   ]
  },
  {
   "cell_type": "markdown",
   "id": "e4322788",
   "metadata": {},
   "source": [
    "## Q3) Write a function called \"ends_with_s\" that: \n",
    "\n",
    "*What to do?*\n",
    "- Accepts a list of words\n",
    "- Return how many words in the list end with the letter \"s\"\n",
    "\n",
    "*What to Print? / Testing*\n",
    "- Create two lists to test this function\n",
    "- Test this function with these two lists"
   ]
  },
  {
   "cell_type": "code",
   "execution_count": 46,
   "id": "9316e19e",
   "metadata": {},
   "outputs": [],
   "source": [
    "def ends_with_s(words):\n",
    "    total = 0\n",
    "    for word in words:\n",
    "        if word.endswith(\"s\"):\n",
    "            \n",
    "            total = total + 1\n",
    "    return total"
   ]
  },
  {
   "cell_type": "code",
   "execution_count": 47,
   "id": "617ab953",
   "metadata": {},
   "outputs": [],
   "source": [
    "list_A = [\"zeus\", \"Mars\", \"zeus\"]"
   ]
  },
  {
   "cell_type": "code",
   "execution_count": 48,
   "id": "2d63112b",
   "metadata": {},
   "outputs": [
    {
     "data": {
      "text/plain": [
       "3"
      ]
     },
     "execution_count": 48,
     "metadata": {},
     "output_type": "execute_result"
    }
   ],
   "source": [
    "ends_with_s(list_A)"
   ]
  },
  {
   "cell_type": "markdown",
   "id": "104ca634",
   "metadata": {},
   "source": [
    "## Q4) Write a function called total_values that: \n",
    "\n",
    "*What to do?*\n",
    "- Accepts a list of words \n",
    "- Returns how many items are in the list the list. \n",
    "- **You are not allowed to use the len() function.**\n",
    "\n",
    "*What to print? / Testing*\n",
    "- Create two lists to test this function\n",
    "- Test this function with these two lists"
   ]
  },
  {
   "cell_type": "code",
   "execution_count": 59,
   "id": "7ac6562c",
   "metadata": {},
   "outputs": [],
   "source": [
    "def total_values(words):\n",
    "    total = 0\n",
    "    for word in words:\n",
    "        total = total + 1\n",
    "    return total"
   ]
  },
  {
   "cell_type": "code",
   "execution_count": null,
   "id": "ef82ccf0",
   "metadata": {},
   "outputs": [],
   "source": []
  },
  {
   "cell_type": "code",
   "execution_count": 60,
   "id": "00692882",
   "metadata": {},
   "outputs": [],
   "source": [
    "list_A = [\"sshigosi\", \"dfgdkfb\", \"uigsudhg\", \"iudgfysd\"]"
   ]
  },
  {
   "cell_type": "code",
   "execution_count": 61,
   "id": "00f8003a",
   "metadata": {},
   "outputs": [
    {
     "data": {
      "text/plain": [
       "4"
      ]
     },
     "execution_count": 61,
     "metadata": {},
     "output_type": "execute_result"
    }
   ],
   "source": [
    "total_values(list_A)"
   ]
  },
  {
   "cell_type": "markdown",
   "id": "dee60fe7",
   "metadata": {},
   "source": [
    "## Q5) Write a function called list_average that: \n",
    "\n",
    "*What to Do?*\n",
    "- Accepts a list of numbers\n",
    "- Returns the average of the list of numbers\n",
    "- **You are not allowed to use the sum() function**\n",
    "\n",
    "*What to Print?*\n",
    "- Create two lists to test this function\n",
    "- Test this function with these two lists"
   ]
  },
  {
   "cell_type": "code",
   "execution_count": 67,
   "id": "08ef418a",
   "metadata": {},
   "outputs": [],
   "source": [
    "def list_average(numbers):\n",
    "    total = 0\n",
    "    total_numbers = 0\n",
    "    \n",
    "    for number in numbers:\n",
    "        total = total + number\n",
    "        total_numbers = total_numbers+1\n",
    "    average = total / total_numbers\n",
    "    return average"
   ]
  },
  {
   "cell_type": "code",
   "execution_count": 68,
   "id": "e9bbacb2",
   "metadata": {},
   "outputs": [
    {
     "data": {
      "text/plain": [
       "3.5"
      ]
     },
     "execution_count": 68,
     "metadata": {},
     "output_type": "execute_result"
    }
   ],
   "source": [
    "list_A = [1,2,3,4,5,6]\n",
    "list_average(list_A)"
   ]
  },
  {
   "cell_type": "code",
   "execution_count": 69,
   "id": "edfa73dd",
   "metadata": {},
   "outputs": [],
   "source": [
    "def multiply_all(numbers):\n",
    "    count = 1 \n",
    "    for number in numbers:\n",
    "        count = count*number \n",
    "    return count\n",
    "    "
   ]
  },
  {
   "cell_type": "code",
   "execution_count": 70,
   "id": "aae0f6b2",
   "metadata": {},
   "outputs": [
    {
     "data": {
      "text/plain": [
       "240"
      ]
     },
     "execution_count": 70,
     "metadata": {},
     "output_type": "execute_result"
    }
   ],
   "source": [
    "numbers = [1,2,4,5,6]\n",
    "multiply_all(numbers)"
   ]
  },
  {
   "cell_type": "code",
   "execution_count": null,
   "id": "9792f5b0",
   "metadata": {},
   "outputs": [],
   "source": []
  },
  {
   "cell_type": "markdown",
   "id": "d9bf1c59",
   "metadata": {},
   "source": [
    "## Q6) BONUS: Write a function called is_sorted that: \n",
    "\n",
    "*What to do?*\n",
    "- Accepts a list of numbers\n",
    "- Returns “Sorted\" if the list is sorted in ascending order (min to max) \n",
    "- Returns “Not Sorted” otherwise\n",
    "- For example a list [12, 34, 49] should return “Sorted” and a list [49, 32, 12, 34] should return “Not Sorted”.\n",
    "\n",
    "*What to print? / Testing*\n",
    "- Create two lists to test this function\n",
    "- Test this function with these two lists"
   ]
  },
  {
   "cell_type": "code",
   "execution_count": null,
   "id": "fe778d7f",
   "metadata": {},
   "outputs": [],
   "source": []
  },
  {
   "cell_type": "markdown",
   "id": "c2d82743",
   "metadata": {},
   "source": [
    "## Q7) BONUS: Write a function called list_is_even that: \n",
    "\n",
    "*What to Do?* \n",
    "- Accepts a list of numbers\n",
    "- Returns \"List has even and odd numbers\" if there are both odd and even numbers\n",
    "- Returns \"List has even numbers\" if there are only even numbers\n",
    "- *Hint:* You will need to use % as a mathematical operator. Google more on that. \n",
    "\n",
    "*What to print?/Testing*\n",
    "- Create two lists to test this function\n",
    "- Test this function with these two lists"
   ]
  },
  {
   "cell_type": "code",
   "execution_count": 139,
   "id": "a1ceb279",
   "metadata": {},
   "outputs": [],
   "source": [
    "def list_is_even(numbers):\n",
    "    even_count = 0\n",
    "    odd_count = 0\n",
    "    for number in numbers:\n",
    "        if number % 2 == 0:\n",
    "            return \"List has even and odd number\"\n",
    "        else:\n",
    "            odd_count += 1\n",
    "    if odd_count == even_count:\n",
    "        print(\"List has even and odd\")\n",
    "    else:\n",
    "        print(\"List has even number\")"
   ]
  },
  {
   "cell_type": "code",
   "execution_count": 140,
   "id": "a8821c5f",
   "metadata": {},
   "outputs": [],
   "source": [
    "numbers = [155]"
   ]
  },
  {
   "cell_type": "code",
   "execution_count": 141,
   "id": "70bbf16b",
   "metadata": {},
   "outputs": [
    {
     "name": "stdout",
     "output_type": "stream",
     "text": [
      "List has even number\n"
     ]
    }
   ],
   "source": [
    "list_is_even(numbers)"
   ]
  },
  {
   "cell_type": "code",
   "execution_count": null,
   "id": "6d776210",
   "metadata": {},
   "outputs": [],
   "source": []
  },
  {
   "cell_type": "code",
   "execution_count": null,
   "id": "3e5b3166",
   "metadata": {},
   "outputs": [],
   "source": []
  }
 ],
 "metadata": {
  "kernelspec": {
   "display_name": "Python 3",
   "language": "python",
   "name": "python3"
  },
  "language_info": {
   "codemirror_mode": {
    "name": "ipython",
    "version": 3
   },
   "file_extension": ".py",
   "mimetype": "text/x-python",
   "name": "python",
   "nbconvert_exporter": "python",
   "pygments_lexer": "ipython3",
   "version": "3.8.8"
  }
 },
 "nbformat": 4,
 "nbformat_minor": 5
}
